{
 "cells": [
  {
   "cell_type": "markdown",
   "metadata": {
    "collapsed": false,
    "pycharm": {
     "name": "#%% md\n"
    }
   },
   "source": [
    "# [Mixes - Podcasts - Live performances](https://www.youtube.com/playlist?list=PLOMUdQFdS-XMJ4NFHJlSALYAt4l-LPgS1): Global statistics & Engagement Report"
   ]
  },
  {
   "cell_type": "markdown",
   "metadata": {
    "pycharm": {
     "name": "#%% md\n"
    }
   },
   "source": [
    "## Librairies"
   ]
  },
  {
   "cell_type": "code",
   "execution_count": null,
   "metadata": {
    "pycharm": {
     "name": "#%%\n"
    }
   },
   "outputs": [],
   "source": [
    "import itertools\n",
    "import datetime\n",
    "import pandas as pd\n",
    "import plotly.express as px"
   ]
  },
  {
   "cell_type": "code",
   "execution_count": null,
   "metadata": {
    "pycharm": {
     "name": "#%%\n"
    }
   },
   "outputs": [],
   "source": [
    "RUN_DATETIME = datetime.datetime.now()\n",
    "SINCE_0106 = (RUN_DATETIME - datetime.datetime.strptime('2022-06-01', '%Y-%m-%d')).days\n",
    "SINCE_0106_WEEKS = SINCE_0106 / 7\n",
    "print(f'NOTEBOOK RUN DATETIME: {RUN_DATETIME}')"
   ]
  },
  {
   "cell_type": "markdown",
   "metadata": {
    "pycharm": {
     "name": "#%% md\n"
    }
   },
   "source": [
    "## Data import"
   ]
  },
  {
   "cell_type": "markdown",
   "metadata": {
    "pycharm": {
     "name": "#%% md\n"
    }
   },
   "source": [
    "\n",
    "Including few pre-treatment steps:\n",
    "\n",
    "- Generating `likes_comments` from sum of `likes` and `comments` features\n",
    "- Changing `realease_date` type to datetime\n",
    "- Generating `release_weekday` and `release_day_hour` from `release_date`"
   ]
  },
  {
   "cell_type": "code",
   "execution_count": null,
   "metadata": {
    "pycharm": {
     "name": "#%%\n"
    }
   },
   "outputs": [],
   "source": [
    "def get_weekday(date: datetime.datetime):\n",
    "    \"\"\"Get day of the week out of a datetime\n",
    "    :param date: date as datetime.datetime object.\n",
    "    :return: weekday label.\n",
    "    \"\"\"\n",
    "    weekday_list = ['MON', 'TUE', 'WED', 'THU', 'FRI', 'SAT', 'SUN']\n",
    "    week_day_num = datetime.datetime.isoweekday(date)\n",
    "    return weekday_list[week_day_num - 1]"
   ]
  },
  {
   "cell_type": "code",
   "execution_count": null,
   "metadata": {
    "pycharm": {
     "name": "#%%\n"
    }
   },
   "outputs": [],
   "source": [
    "weekday_cat = ['MON', 'TUE', 'WED', 'THU', 'FRI', 'SAT', 'SUN']\n",
    "weekday_hour_cat = [f'{day_hour[0]}-{day_hour[1]:02d}' for day_hour in itertools.product(weekday_cat, range(0, 24))]"
   ]
  },
  {
   "cell_type": "code",
   "execution_count": null,
   "metadata": {
    "pycharm": {
     "name": "#%%\n"
    }
   },
   "outputs": [],
   "source": [
    "data = pd.read_csv('../data/mix_history.csv').drop(['status', 'live_status'], axis=1)\n",
    "data"
   ]
  },
  {
   "cell_type": "code",
   "execution_count": null,
   "metadata": {
    "pycharm": {
     "name": "#%%\n"
    }
   },
   "outputs": [],
   "source": [
    "data['likes_comments'] = data.likes + data.comments"
   ]
  },
  {
   "cell_type": "code",
   "execution_count": null,
   "metadata": {
    "pycharm": {
     "name": "#%%\n"
    }
   },
   "outputs": [],
   "source": [
    "data.release_date = pd.to_datetime(data['release_date'])\n",
    "data['release_weekday'] = data.loc[:, 'release_date'].apply(get_weekday)\n",
    "data['release_hour'] = data['release_date'].dt.hour\n",
    "data['release_day_hour'] = data.release_weekday + '-' + data.release_hour.apply(lambda x: f'{x:02d}')\n",
    "\n",
    "data.release_weekday = pd.Categorical(data.release_weekday, categories=weekday_cat)\n",
    "data.release_day_hour = pd.Categorical(data.release_day_hour, categories=weekday_hour_cat)"
   ]
  },
  {
   "cell_type": "code",
   "execution_count": null,
   "metadata": {
    "pycharm": {
     "name": "#%%\n"
    }
   },
   "outputs": [],
   "source": [
    "data.head()"
   ]
  },
  {
   "cell_type": "code",
   "execution_count": null,
   "metadata": {
    "pycharm": {
     "name": "#%%\n"
    }
   },
   "outputs": [],
   "source": [
    "# Channel database: channel ID with channel current name\n",
    "channel_db = data.loc[:, ['channel_id', 'channel_name']]\\\n",
    "    .drop_duplicates(keep='last')\\\n",
    "    .sort_values('channel_name', ignore_index=True)\n",
    "\n",
    "channel_db"
   ]
  },
  {
   "cell_type": "markdown",
   "metadata": {
    "pycharm": {
     "name": "#%% md\n"
    }
   },
   "source": [
    "## Upload frequency\n",
    "\n",
    "### Data Generation"
   ]
  },
  {
   "cell_type": "code",
   "execution_count": null,
   "metadata": {
    "pycharm": {
     "name": "#%%\n"
    }
   },
   "outputs": [],
   "source": [
    "# Count of video uploaded per weekday / hour / weekday and hour\n",
    "\n",
    "new_data = data.loc[:, ['release_weekday', 'release_hour', 'release_day_hour']]\n",
    "new_data['video_count'] = 1\n",
    "\n",
    "day_count = new_data.loc[:, ['release_weekday', 'video_count']].groupby('release_weekday', as_index=False).sum()\n",
    "day_count['average'] = day_count['video_count'] / SINCE_0106_WEEKS\n",
    "\n",
    "hour_count = new_data.loc[:, ['release_hour', 'video_count']].groupby('release_hour', as_index=False).sum()\n",
    "hour_count['proportion'] = hour_count['video_count'] / hour_count.video_count.sum() * 100\n",
    "\n",
    "day_hour_count = new_data.loc[:, ['release_day_hour', 'video_count']].groupby('release_day_hour', as_index=False).sum()\n",
    "day_hour_count['proportion'] = day_hour_count['video_count'] / day_hour_count.video_count.sum() * 100"
   ]
  },
  {
   "cell_type": "markdown",
   "metadata": {
    "collapsed": false,
    "pycharm": {
     "name": "#%% md\n"
    }
   },
   "source": [
    "### Graphics"
   ]
  },
  {
   "cell_type": "code",
   "execution_count": null,
   "metadata": {
    "pycharm": {
     "name": "#%%\n"
    }
   },
   "outputs": [],
   "source": [
    "title_0 = 'Average amount of upload per weekday<br><sup>Since June 2022</sup>'\n",
    "fig = px.bar(data_frame=day_count, y='average', x='release_weekday', title=title_0,\n",
    "             color='average', width=960, height=540, color_continuous_scale='orrd')\n",
    "\n",
    "fig.update_coloraxes(showscale=False)\n",
    "\n",
    "fig.show()"
   ]
  },
  {
   "cell_type": "code",
   "execution_count": null,
   "metadata": {
    "pycharm": {
     "name": "#%%\n"
    }
   },
   "outputs": [],
   "source": [
    "title_00 = 'Upload proportion per hour<br><sup>Since June 2022</sup>'\n",
    "fig = px.bar(data_frame=hour_count, y='proportion', x='release_hour', title=title_00,\n",
    "             color='proportion', width=960, height=540, color_continuous_scale='orrd')\n",
    "\n",
    "fig.update_coloraxes(showscale=False)\n",
    "\n",
    "fig.show()"
   ]
  },
  {
   "cell_type": "code",
   "execution_count": null,
   "metadata": {
    "pycharm": {
     "name": "#%%\n"
    }
   },
   "outputs": [],
   "source": [
    "title_000 = 'Upload proportion per weekday & hour<br><sup>Since June 2022</sup>'\n",
    "fig = px.bar(data_frame=day_hour_count, y='proportion', x='release_day_hour', title=title_000,\n",
    "             color='proportion', width=960, height=540, color_continuous_scale='orrd')\n",
    "\n",
    "fig.update_coloraxes(showscale=False)\n",
    "\n",
    "fig.show()"
   ]
  },
  {
   "cell_type": "markdown",
   "metadata": {
    "pycharm": {
     "name": "#%% md\n"
    }
   },
   "source": [
    "## Audience\n",
    "\n",
    "### Dataframe generation"
   ]
  },
  {
   "cell_type": "code",
   "execution_count": null,
   "metadata": {
    "pycharm": {
     "name": "#%%\n"
    }
   },
   "outputs": [],
   "source": [
    "# Count of video uploaded by channel\n",
    "upload_count = data.loc[:, ['channel_id', 'item_id']].groupby('channel_id', as_index=False).count().rename\\\n",
    "    (columns={'item_id': 'video_count'})\n",
    "\n",
    "# Sum of views by channel\n",
    "stats_sum = data.loc[:, ['channel_id', 'views', 'likes', 'comments', 'likes_comments']].groupby('channel_id', as_index=False).sum()\n",
    "\n",
    "# Average viewership by channel\n",
    "stats_avg = data.loc[:, ['channel_id', 'views', 'likes', 'comments', 'likes_comments']].groupby('channel_id', as_index=False).mean()"
   ]
  },
  {
   "cell_type": "code",
   "execution_count": null,
   "metadata": {
    "pycharm": {
     "name": "#%%\n"
    }
   },
   "outputs": [],
   "source": [
    "# Merge with channel DB\n",
    "upload_count = upload_count.merge(channel_db)\n",
    "stats_sum = stats_sum.merge(channel_db)\n",
    "stats_avg = stats_avg.merge(channel_db)"
   ]
  },
  {
   "cell_type": "markdown",
   "metadata": {
    "pycharm": {
     "name": "#%% md\n"
    }
   },
   "source": [
    "### Graphics\n",
    "\n",
    "#### Video count"
   ]
  },
  {
   "cell_type": "code",
   "execution_count": null,
   "metadata": {
    "pycharm": {
     "name": "#%%\n"
    }
   },
   "outputs": [],
   "source": [
    "title_1 = 'Video count by channel<br><sup>Since June 2022</sup>'\n",
    "fig = px.bar(data_frame=upload_count, y='video_count', x='channel_name', title=title_1,\n",
    "             color='video_count', width=960, height=540, color_continuous_scale='orrd')\n",
    "\n",
    "fig.update_layout(xaxis={'categoryorder': 'total descending'})\n",
    "fig.update_coloraxes(showscale=False)\n",
    "\n",
    "fig.show()"
   ]
  },
  {
   "cell_type": "markdown",
   "metadata": {
    "pycharm": {
     "name": "#%% md\n"
    }
   },
   "source": [
    "#### Total engagement by channel"
   ]
  },
  {
   "cell_type": "code",
   "execution_count": null,
   "metadata": {
    "pycharm": {
     "name": "#%%\n"
    }
   },
   "outputs": [],
   "source": [
    "title_2_1 = 'Total views by channel<br><sup>Since June 2022</sup>'\n",
    "fig = px.bar(data_frame=stats_sum, y='views', x='channel_name', title=title_2_1,\n",
    "              color='views', width=960, height=540, color_continuous_scale='orrd')\n",
    "\n",
    "fig.update_layout(xaxis={'categoryorder':'total descending'})\n",
    "fig.update_coloraxes(showscale=False)\n",
    "\n",
    "fig.show()"
   ]
  },
  {
   "cell_type": "code",
   "execution_count": null,
   "metadata": {
    "pycharm": {
     "name": "#%%\n"
    }
   },
   "outputs": [],
   "source": [
    "title_2_2 = 'Total likes by channel<br><sup>Since June 2022</sup>'\n",
    "fig_2 = px.bar(data_frame=stats_sum, y='likes', x='channel_name', title=title_2_2,\n",
    "              color='likes', width=960, height=540, color_continuous_scale='orrd')\n",
    "\n",
    "fig_2.update_layout(xaxis={'categoryorder':'total descending'})\n",
    "fig_2.update_coloraxes(showscale=False)\n",
    "\n",
    "fig_2.show()"
   ]
  },
  {
   "cell_type": "code",
   "execution_count": null,
   "metadata": {
    "pycharm": {
     "name": "#%%\n"
    }
   },
   "outputs": [],
   "source": [
    "title_2_3 = 'Total comments by channel<br><sup>Since June 2022</sup>'\n",
    "fig = px.bar(data_frame=stats_sum, y='comments', x='channel_name', title=title_2_3,\n",
    "              color='comments', width=960, height=540, color_continuous_scale='orrd')\n",
    "\n",
    "fig.update_layout(xaxis={'categoryorder':'total descending'})\n",
    "fig.update_coloraxes(showscale=False)\n",
    "\n",
    "fig.show()"
   ]
  },
  {
   "cell_type": "code",
   "execution_count": null,
   "metadata": {
    "pycharm": {
     "name": "#%%\n"
    }
   },
   "outputs": [],
   "source": [
    "title_2_4 = 'Total likes + comments by channel<br><sup>Since June 2022</sup>'\n",
    "fig = px.bar(data_frame=stats_sum, y='likes_comments', x='channel_name', title=title_2_4,\n",
    "              color='likes_comments', width=960, height=540, color_continuous_scale='orrd')\n",
    "\n",
    "fig.update_layout(xaxis={'categoryorder':'total descending'})\n",
    "fig.update_coloraxes(showscale=False)\n",
    "\n",
    "fig.show()"
   ]
  },
  {
   "cell_type": "markdown",
   "metadata": {
    "pycharm": {
     "name": "#%% md\n"
    }
   },
   "source": [
    "#### Average engagement by channel"
   ]
  },
  {
   "cell_type": "code",
   "execution_count": null,
   "metadata": {
    "pycharm": {
     "name": "#%%\n"
    }
   },
   "outputs": [],
   "source": [
    "title_3_1 = 'Average viewership by channel<br><sup>Since June 2022</sup>'\n",
    "fig = px.bar(data_frame=stats_avg, y='views', x='channel_name', title=title_3_1,\n",
    "              color='views', width=960, height=540, color_continuous_scale='orrd')\n",
    "\n",
    "fig.update_layout(xaxis={'categoryorder':'total descending'})\n",
    "fig.update_coloraxes(showscale=False)\n",
    "\n",
    "fig.show()"
   ]
  },
  {
   "cell_type": "code",
   "execution_count": null,
   "metadata": {
    "pycharm": {
     "name": "#%%\n"
    }
   },
   "outputs": [],
   "source": [
    "title_3_2 = 'Average amount of likes by channel<br><sup>Since June 2022</sup>'\n",
    "fig = px.bar(data_frame=stats_avg, y='likes', x='channel_name', title=title_3_2,\n",
    "              color='likes', width=960, height=540, color_continuous_scale='orrd')\n",
    "\n",
    "fig.update_layout(xaxis={'categoryorder':'total descending'})\n",
    "fig.update_coloraxes(showscale=False)\n",
    "\n",
    "fig.show()"
   ]
  },
  {
   "cell_type": "code",
   "execution_count": null,
   "metadata": {
    "pycharm": {
     "name": "#%%\n"
    }
   },
   "outputs": [],
   "source": [
    "title_3_3 = 'Average amount of comments by channel<br><sup>Since June 2022</sup>'\n",
    "fig = px.bar(data_frame=stats_avg, y='comments', x='channel_name', title=title_3_3,\n",
    "              color='comments', width=960, height=540, color_continuous_scale='orrd')\n",
    "\n",
    "fig.update_layout(xaxis={'categoryorder':'total descending'})\n",
    "fig.update_coloraxes(showscale=False)\n",
    "\n",
    "fig.show()"
   ]
  },
  {
   "cell_type": "code",
   "execution_count": null,
   "metadata": {
    "pycharm": {
     "name": "#%%\n"
    }
   },
   "outputs": [],
   "source": [
    "title_3_4 = 'Average amount of likes and comments by channel<br><sup>Since June 2022</sup>'\n",
    "fig = px.bar(data_frame=stats_avg, y='likes_comments', x='channel_name', title=title_3_4,\n",
    "              color='likes_comments', width=960, height=540, color_continuous_scale='orrd')\n",
    "\n",
    "fig.update_layout(xaxis={'categoryorder':'total descending'})\n",
    "fig.update_coloraxes(showscale=False)\n",
    "\n",
    "fig.show()"
   ]
  },
  {
   "cell_type": "markdown",
   "metadata": {
    "collapsed": false,
    "pycharm": {
     "name": "#%% md\n"
    }
   },
   "source": [
    "## Clear outputs"
   ]
  },
  {
   "cell_type": "code",
   "execution_count": null,
   "metadata": {
    "pycharm": {
     "name": "#%%\n"
    }
   },
   "outputs": [],
   "source": [
    "!jupyter nbconvert --clear-output --inplace playlists_report.ipynb"
   ]
  }
 ],
 "metadata": {
  "kernelspec": {
   "display_name": "Python 3 (ipykernel)",
   "language": "python",
   "name": "python3"
  },
  "language_info": {
   "codemirror_mode": {
    "name": "ipython",
    "version": 3
   },
   "file_extension": ".py",
   "mimetype": "text/x-python",
   "name": "python",
   "nbconvert_exporter": "python",
   "pygments_lexer": "ipython3",
   "version": "3.9.13"
  }
 },
 "nbformat": 4,
 "nbformat_minor": 1
}